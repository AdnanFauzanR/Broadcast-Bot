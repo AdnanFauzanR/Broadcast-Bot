{
 "cells": [
  {
   "cell_type": "code",
   "execution_count": 1,
   "metadata": {},
   "outputs": [],
   "source": [
    "import telebot\n",
    "import pymongo\n",
    "from telebot import types\n",
    "import gspread\n",
    "from oauth2client.service_account import ServiceAccountCredentials\n",
    "from io import BytesIO\n",
    "from googleapiclient.http import MediaIoBaseUpload\n",
    "import openpyxl\n",
    "import gspread.exceptions as exceptions"
   ]
  },
  {
   "cell_type": "code",
   "execution_count": 2,
   "metadata": {},
   "outputs": [],
   "source": [
    "scope = ['https://spreadsheets.google.com/feeds', 'https://www.googleapis.com/auth/drive']\n",
    "credentials = ServiceAccountCredentials.from_json_keyfile_name('broadcast-bot-405401-1b87de6e7576.json', scope)\n",
    "client = gspread.authorize(credentials)\n",
    "spreadsheet_key = '11SDJGATOVASTo76qmXacYuVVq2MuF99vow_plA5yCSM'\n",
    "worksheet = client.open_by_key(spreadsheet_key).sheet1"
   ]
  },
  {
   "cell_type": "code",
   "execution_count": 8,
   "metadata": {},
   "outputs": [],
   "source": [
    "def broadcast_message(incident, last_status):\n",
    "    worksheet = client.open_by_key(spreadsheet_key).sheet1\n",
    "    cell = worksheet.find(incident)\n",
    "    print(cell)\n",
    "    if not cell:\n",
    "        return \"Tidak ada data\"\n",
    "    else:\n",
    "        row_data = worksheet.row_values(cell.row)\n",
    "    segmen, layanan, witel, sto, start_time, ttr, no_tiket, sid, customer_name, headline = row_data[6], row_data[7], row_data[8], row_data[9], row_data[3], row_data[1], row_data[0], row_data[28], row_data[27], row_data[2]\n",
    "    message = f\"\"\"\n",
    "Broadcast Ticketing\n",
    "Status: OPEN\n",
    "Segmen Customer: {segmen}\n",
    "Layanan: {layanan}\n",
    "Witel: {witel}\n",
    "STO: {sto}\n",
    "Start Time: {start_time}\n",
    "TTR Aktif: {ttr}\n",
    "No Tiket: {no_tiket}\n",
    "SID: {sid}\n",
    "Customer Name: {customer_name}\n",
    "Headline: {headline}\n",
    "------------------------\\n\n",
    "{last_status}\\n\n",
    "------------------------\\n\n",
    "                        \"\"\"\n",
    "    return message"
   ]
  },
  {
   "cell_type": "code",
   "execution_count": 10,
   "metadata": {},
   "outputs": [
    {
     "name": "stdout",
     "output_type": "stream",
     "text": [
      "None\n"
     ]
    },
    {
     "data": {
      "text/plain": [
       "'Tidak ada data'"
      ]
     },
     "execution_count": 10,
     "metadata": {},
     "output_type": "execute_result"
    }
   ],
   "source": [
    "message = broadcast_message('INC6383', 'Hello')\n",
    "message"
   ]
  },
  {
   "cell_type": "code",
   "execution_count": 3,
   "metadata": {},
   "outputs": [
    {
     "name": "stdout",
     "output_type": "stream",
     "text": [
      "9\n",
      "8\n",
      "7\n",
      "[9, 8, 6, 7, 9]\n"
     ]
    }
   ],
   "source": [
    "a = [9, 8, None, 6, 7, None, 9]\n",
    "for b in a:\n",
    "    if b:\n",
    "        print(b)\n",
    "    else:\n",
    "        a.remove(b)\n",
    "print(a)"
   ]
  },
  {
   "cell_type": "code",
   "execution_count": 8,
   "metadata": {},
   "outputs": [
    {
     "name": "stdout",
     "output_type": "stream",
     "text": [
      "True\n"
     ]
    }
   ],
   "source": [
    "g = {}\n",
    "try:\n",
    "    g[7]\n",
    "except KeyError:\n",
    "    g[7] = 8\n",
    "g\n",
    "print(1 >= 1)"
   ]
  },
  {
   "cell_type": "code",
   "execution_count": null,
   "metadata": {},
   "outputs": [],
   "source": []
  }
 ],
 "metadata": {
  "kernelspec": {
   "display_name": "Python 3",
   "language": "python",
   "name": "python3"
  },
  "language_info": {
   "codemirror_mode": {
    "name": "ipython",
    "version": 3
   },
   "file_extension": ".py",
   "mimetype": "text/x-python",
   "name": "python",
   "nbconvert_exporter": "python",
   "pygments_lexer": "ipython3",
   "version": "3.10.2"
  }
 },
 "nbformat": 4,
 "nbformat_minor": 2
}
